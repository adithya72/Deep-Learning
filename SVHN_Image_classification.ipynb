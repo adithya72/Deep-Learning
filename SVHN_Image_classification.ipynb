{
  "nbformat": 4,
  "nbformat_minor": 0,
  "metadata": {
    "colab": {
      "provenance": [],
      "authorship_tag": "ABX9TyP1Jm+eiJSMga2mTP8k7cn9",
      "include_colab_link": true
    },
    "kernelspec": {
      "name": "python3",
      "display_name": "Python 3"
    },
    "language_info": {
      "name": "python"
    }
  },
  "cells": [
    {
      "cell_type": "markdown",
      "metadata": {
        "id": "view-in-github",
        "colab_type": "text"
      },
      "source": [
        "<a href=\"https://colab.research.google.com/github/adithya72/Deep-Learning/blob/Develop/SVHN_Image_classification.ipynb\" target=\"_parent\"><img src=\"https://colab.research.google.com/assets/colab-badge.svg\" alt=\"Open In Colab\"/></a>"
      ]
    },
    {
      "cell_type": "markdown",
      "source": [
        "# Neural Networks - Predict numbers out of street images that contains single digit - SVHN dataset\n",
        "\n",
        "Recognising multi-digit numbers in photographs captured at street level is an important component of modern-day map\n",
        "making. The ability to automatically transcribe an address number from a geo-located patch of pixels and associate the transcribed number with a\n",
        "known street address helps pinpoint, with a high degree of accuracy, the location of the building it represents. More broadly, recognising\n",
        "numbers in photographs is a problem of interest to the optical character recognition community.\n",
        "\n",
        "**Objective :** Build a classifier neural network model that take image as input and determine/predicts the number out of it.\n",
        "\n",
        "**Dataset** : The data set contains images the contains a single digit and labels for each image are provided\n",
        "\n",
        "**ML librarie**s : Keras, tensorflow\n",
        "\n",
        "This notebook covers,\n",
        "\n",
        "1.   Data importing and understanding\n",
        "2.   Data preprocessing\n",
        "3.   Model Training & Evaluation using Neural Network\n"
      ],
      "metadata": {
        "id": "aDX2_dI8vaUf"
      }
    },
    {
      "cell_type": "markdown",
      "source": [
        "## Data Importing and Exploration"
      ],
      "metadata": {
        "id": "uj_eWFgX6qgH"
      }
    },
    {
      "cell_type": "code",
      "execution_count": 1,
      "metadata": {
        "id": "iBqvOO03qVRx"
      },
      "outputs": [],
      "source": [
        "#import required libraries\n",
        "import os\n",
        "import pandas as pd\n",
        "import numpy as np\n",
        "import h5py\n",
        "import tensorflow\n",
        "#ignore warnings\n",
        "import warnings\n",
        "warnings.filterwarnings('ignore')"
      ]
    },
    {
      "cell_type": "code",
      "source": [
        "# Mount google drive where thed dataset file resides\n",
        "from google.colab import drive\n",
        "drive.mount(\"/content/Drive\")\n",
        "os.getcwd() #check the current working directory"
      ],
      "metadata": {
        "colab": {
          "base_uri": "https://localhost:8080/",
          "height": 55
        },
        "id": "wvLrFkI0xzVv",
        "outputId": "8caaa00d-6bea-4c4c-9754-135d5075491b"
      },
      "execution_count": 2,
      "outputs": [
        {
          "output_type": "stream",
          "name": "stdout",
          "text": [
            "Mounted at /content/Drive\n"
          ]
        },
        {
          "output_type": "execute_result",
          "data": {
            "text/plain": [
              "'/content'"
            ],
            "application/vnd.google.colaboratory.intrinsic+json": {
              "type": "string"
            }
          },
          "metadata": {},
          "execution_count": 2
        }
      ]
    },
    {
      "cell_type": "code",
      "source": [
        "#import the dataset - Autonomous_Vehicles_SVHN_single_grey1.h5 from google drive.\n",
        "# it's in h5 format, read and see what keys it contain\n",
        "hf = h5py.File('/content/Drive/MyDrive/NN Dataset/Autonomous_Vehicles_SVHN_single_grey1.h5', 'r')\n",
        "hf.keys()\n"
      ],
      "metadata": {
        "colab": {
          "base_uri": "https://localhost:8080/"
        },
        "id": "RGwVh2nxx0ss",
        "outputId": "6dc8dbe9-d011-47b2-ccec-11a574a870ec"
      },
      "execution_count": 3,
      "outputs": [
        {
          "output_type": "execute_result",
          "data": {
            "text/plain": [
              "<KeysViewHDF5 ['X_test', 'X_train', 'X_val', 'y_test', 'y_train', 'y_val']>"
            ]
          },
          "metadata": {},
          "execution_count": 3
        }
      ]
    },
    {
      "cell_type": "code",
      "source": [
        "x_train = np.array(hf.get('X_train'))\n",
        "y_train =  np.array(hf.get('y_train'))\n",
        "x_test =  np.array(hf.get('X_test'))\n",
        "y_test =  np.array(hf.get('y_test'))\n",
        "hf.close()\n",
        "print(\"train dataset shape : \", x_train.shape)\n",
        "print(\"train labels dataset shape : \", y_train.shape)\n",
        "print(\"test dataset shape : \", x_test.shape)\n",
        "print(\"test labels dataset shape : \", y_test.shape)"
      ],
      "metadata": {
        "colab": {
          "base_uri": "https://localhost:8080/"
        },
        "id": "9icAw7BtylQn",
        "outputId": "4e0e5735-3315-4986-8114-15bcdfafce08"
      },
      "execution_count": 4,
      "outputs": [
        {
          "output_type": "stream",
          "name": "stdout",
          "text": [
            "train dataset shape :  (42000, 32, 32)\n",
            "train labels dataset shape :  (42000,)\n",
            "test dataset shape :  (18000, 32, 32)\n",
            "test labels dataset shape :  (18000,)\n"
          ]
        }
      ]
    },
    {
      "cell_type": "markdown",
      "source": [
        "Observation - all images are 32*32 matrix, training dataset contains 42000 images and test dataset contains 18000."
      ],
      "metadata": {
        "id": "zu0lxD-e4l_U"
      }
    },
    {
      "cell_type": "markdown",
      "source": [
        "## Data Visualisation and preprocessing"
      ],
      "metadata": {
        "id": "PZ465ARU6o66"
      }
    },
    {
      "cell_type": "code",
      "source": [
        "#Let's explore the train dataset\n",
        "print(x_train[0]) #returns first element which is 32*32 matrix\n",
        "print(\"First data point is labled as :\",y_train[0]) #returns what the first element is labled as\n",
        "#let's print the image of first row which 32*32 for this we need matlab library\n",
        "import matplotlib.pyplot as plt\n",
        "plt.figure(figsize=(10,1))\n",
        "#print the first image\n",
        "plt.imshow(x_train[0],cmap=\"gray\")\n",
        "plt.show()"
      ],
      "metadata": {
        "colab": {
          "base_uri": "https://localhost:8080/",
          "height": 290
        },
        "id": "BastIL-y000o",
        "outputId": "e562c0d1-14d3-42d4-c937-065cc5a2cd64"
      },
      "execution_count": 5,
      "outputs": [
        {
          "output_type": "stream",
          "name": "stdout",
          "text": [
            "[[ 33.0704  30.2601  26.852  ...  71.4471  58.2204  42.9939]\n",
            " [ 25.2283  25.5533  29.9765 ... 113.0209 103.3639  84.2949]\n",
            " [ 26.2775  22.6137  40.4763 ... 113.3028 121.775  115.4228]\n",
            " ...\n",
            " [ 28.5502  36.212   45.0801 ...  24.1359  25.0927  26.0603]\n",
            " [ 38.4352  26.4733  23.2717 ...  28.1094  29.4683  30.0661]\n",
            " [ 50.2984  26.0773  24.0389 ...  49.6682  50.853   53.0377]]\n",
            "First data point is labled as : 2\n"
          ]
        },
        {
          "output_type": "display_data",
          "data": {
            "text/plain": [
              "<Figure size 1000x100 with 1 Axes>"
            ],
            "image/png": "[encoded data removed]"
          },
          "metadata": {}
        }
      ]
    },
    {
      "cell_type": "code",
      "source": [
        "#now visualize first 10 figures\n",
        "for i in range(10):\n",
        "  plt.subplot(1,10,i+1) #subplot row, col and index number to render\n",
        "  plt.imshow(x_train[i], cmap=\"gray\")\n",
        "\n",
        "plt.show()\n",
        "print(\"lable for each of the above image : \", y_train[0:10])"
      ],
      "metadata": {
        "colab": {
          "base_uri": "https://localhost:8080/",
          "height": 125
        },
        "id": "pCE1Zcbz5403",
        "outputId": "2d814c63-701f-46ae-b85f-863fe0612ff9"
      },
      "execution_count": 6,
      "outputs": [
        {
          "output_type": "display_data",
          "data": {
            "text/plain": [
              "<Figure size 640x480 with 10 Axes>"
            ],
            "image/png": "[encoded data removed]"
          },
          "metadata": {}
        },
        {
          "output_type": "stream",
          "name": "stdout",
          "text": [
            "lable for each of the above image :  [2 6 7 4 4 0 3 0 7 3]\n"
          ]
        }
      ]
    },
    {
      "cell_type": "markdown",
      "source": [
        "Normalize our train and test data i.e. 32*32 gray scale images contains numbers from 0 to 255 - 0 being black and 255 being white. In Neural network -> activation functions: They perform well when the numbers are close to zero hence we are going to reshape them in to vectors and divide all the numbers by 255 to normalize the data."
      ],
      "metadata": {
        "id": "rObZCWct4SLS"
      }
    },
    {
      "cell_type": "code",
      "source": [
        "#flatten the image - it converts 32 * 32 in to one single vector/simple matrix\n",
        "print(x_train[0])\n",
        "print(x_test[0])\n",
        "print(\"after reshaping\")\n",
        "image_vector_size = 32*32 #1024 inputs\n",
        "x_train = x_train.reshape(x_train.shape[0], image_vector_size)\n",
        "x_test = x_test.reshape(x_test.shape[0], image_vector_size)\n",
        "print(x_train[0])\n",
        "print(x_test[0])"
      ],
      "metadata": {
        "colab": {
          "base_uri": "https://localhost:8080/"
        },
        "id": "dHKx8Ysb0C94",
        "outputId": "bc7d09aa-1fec-4346-9886-e5609b6fb1a5"
      },
      "execution_count": 7,
      "outputs": [
        {
          "output_type": "stream",
          "name": "stdout",
          "text": [
            "[[ 33.0704  30.2601  26.852  ...  71.4471  58.2204  42.9939]\n",
            " [ 25.2283  25.5533  29.9765 ... 113.0209 103.3639  84.2949]\n",
            " [ 26.2775  22.6137  40.4763 ... 113.3028 121.775  115.4228]\n",
            " ...\n",
            " [ 28.5502  36.212   45.0801 ...  24.1359  25.0927  26.0603]\n",
            " [ 38.4352  26.4733  23.2717 ...  28.1094  29.4683  30.0661]\n",
            " [ 50.2984  26.0773  24.0389 ...  49.6682  50.853   53.0377]]\n",
            "[[ 40.558   46.7917  48.9764 ... 112.1153 112.9904 112.1646]\n",
            " [ 39.4379  44.2911  47.1768 ... 111.0122 110.9475 109.9368]\n",
            " [ 38.4488  43.6394  48.7098 ... 109.8921 109.9414 109.1048]\n",
            " ...\n",
            " [ 34.9869  35.4707  39.6676 ... 109.211  109.9074 112.7346]\n",
            " [ 35.6602  35.5462  40.3193 ... 110.9998 112.049  114.3431]\n",
            " [ 36.1871  35.4214  40.6998 ... 110.0169 111.2017 114.1906]]\n",
            "after reshaping\n",
            "[33.0704 30.2601 26.852  ... 49.6682 50.853  53.0377]\n",
            "[ 40.558   46.7917  48.9764 ... 110.0169 111.2017 114.1906]\n"
          ]
        }
      ]
    },
    {
      "cell_type": "code",
      "source": [
        "#normalize the data by dividing it with 255, so all the numbers will be close to zero\n",
        "x_train = x_train / 255.0\n",
        "x_test = x_test / 255.0\n",
        "\n",
        "print(x_train[0])\n",
        "print(x_test[0])\n",
        "\n",
        "print('Training Set Shape', x_train.shape, y_train.shape)\n",
        "print('Test Set Shape', x_test.shape, y_test.shape)"
      ],
      "metadata": {
        "colab": {
          "base_uri": "https://localhost:8080/"
        },
        "id": "nKOMc-_H7mkc",
        "outputId": "149f3a85-3086-41ab-b671-f4b581ad2fda"
      },
      "execution_count": 8,
      "outputs": [
        {
          "output_type": "stream",
          "name": "stdout",
          "text": [
            "[0.12968785 0.11866706 0.10530196 ... 0.19477727 0.19942354 0.20799099]\n",
            "[0.15905097 0.18349686 0.19206432 ... 0.43143883 0.4360851  0.44780627]\n",
            "Training Set Shape (42000, 1024) (42000,)\n",
            "Test Set Shape (18000, 1024) (18000,)\n"
          ]
        }
      ]
    },
    {
      "cell_type": "markdown",
      "source": [
        "Target label's contains numbers from 0-9, but neural network is not going to output the categorial variables like 0,1,2,3,4,5,6,7,8,9 instead it returns a output in the form of vector with a probability. So first all the test label's should be converted in to vectors and model will return either zero's or ones, so for example if it returns 4 zeros then it is 4, if returns 5 zero it would be 5. we use technique called one hot encoding OHT to convert test labels in to vectors."
      ],
      "metadata": {
        "id": "ZaYf4IUo8cA2"
      }
    },
    {
      "cell_type": "code",
      "source": [
        "#Check target variables classes\n",
        "\n",
        "# Find the unique values and their counts\n",
        "unique_values, counts = np.unique(y_train, return_counts=True)\n",
        "print(\"unique target label value : \", unique_values)\n",
        "# Count the number of classes\n",
        "num_classes = len(unique_values)\n",
        "print(\"No of target label classes\", num_classes)"
      ],
      "metadata": {
        "colab": {
          "base_uri": "https://localhost:8080/"
        },
        "id": "hENHf_RF9Y1p",
        "outputId": "1f936594-a1a3-4efb-ba0d-ab3812d3c843"
      },
      "execution_count": 9,
      "outputs": [
        {
          "output_type": "stream",
          "name": "stdout",
          "text": [
            "unique target label value :  [0 1 2 3 4 5 6 7 8 9]\n",
            "No of target label classes 10\n"
          ]
        }
      ]
    },
    {
      "cell_type": "code",
      "source": [
        "print(\"Target label value before transformation : \", y_train[0])\n",
        "print(\"After Transformation\")\n",
        "from keras.utils import to_categorical\n",
        "y_train = to_categorical(y_train,num_classes)\n",
        "y_test_cat = to_categorical(y_test,num_classes)\n",
        "\n",
        "print(y_train[0])\n",
        "print(\"first 5 training labels as one-hot encoded vectors:\\n\", y_train[:5])"
      ],
      "metadata": {
        "colab": {
          "base_uri": "https://localhost:8080/"
        },
        "id": "ihRsxgow8h6v",
        "outputId": "9d36ec48-6a48-4f55-fc28-b145acf006e0"
      },
      "execution_count": 10,
      "outputs": [
        {
          "output_type": "stream",
          "name": "stdout",
          "text": [
            "Target label value before transformation :  2\n",
            "After Transformation\n",
            "[0. 0. 1. 0. 0. 0. 0. 0. 0. 0.]\n",
            "first 5 training labels as one-hot encoded vectors:\n",
            " [[0. 0. 1. 0. 0. 0. 0. 0. 0. 0.]\n",
            " [0. 0. 0. 0. 0. 0. 1. 0. 0. 0.]\n",
            " [0. 0. 0. 0. 0. 0. 0. 1. 0. 0.]\n",
            " [0. 0. 0. 0. 1. 0. 0. 0. 0. 0.]\n",
            " [0. 0. 0. 0. 1. 0. 0. 0. 0. 0.]]\n"
          ]
        }
      ]
    },
    {
      "cell_type": "markdown",
      "source": [
        "## Model Training & Evaluation using Neural Network"
      ],
      "metadata": {
        "id": "Mr488fFw_E_w"
      }
    },
    {
      "cell_type": "code",
      "source": [
        "# define model\n",
        "image_size = 32*32 #no of inputs for each image which will be passed to model is 32*32 = 1024\n",
        "from keras import optimizers\n",
        "from keras import Sequential\n",
        "from keras.layers import Dense\n",
        "\n",
        "#model is sequential\n",
        "model = Sequential()\n",
        "\n",
        "#add one layer -\n",
        "#Dense = every node connected to every node,\n",
        "#no of nodes = let's start with 10,\n",
        "#activation is softmax function which returns probability, it can be sigmoid, Relu ..etc.\n",
        "#input shape = no of inputs\n",
        "#softmax takes all output and divides by sum of outputs to check the probability of y^ to y.\n",
        "model.add(Dense(10, activation=\"softmax\", kernel_initializer=\"he_uniform\",input_shape=(image_size,)))\n",
        "\n",
        "\n",
        "#Model optimizer functions - RMSprop, Adagrad - adam and SGD - Stochastic Gradient Descent\n",
        "# Gradient Descent - Passes all the inputs to the model and computes the loss/error. Based on the it adjusts the weights.\n",
        "# Stochastic Gradient Descent - SGD uses only training sample to compute the loss/error and adjust the weights, hence the convergence is\n",
        "# more, given it runs faster compare to gradient descent which runs entire data set\n",
        "# Adagrad - Adaptive Gradient - it's similar to SGD but it automatically adjusts the weights based on the loss/error.\n",
        "# RMSProp - It's similar to adaptive but ensures the learning rate is not too high, it decays the gradient descent\n",
        "# Adam - RMSProp + SGD with momentum\n",
        "#An optimization algorithm finds the value of the parameters (weights) that minimize the error when mapping inputs to outputs.\n",
        "from keras import losses\n",
        "\n",
        "adam = optimizers.Adam(learning_rate=1e-3) #lr = learning rate 1e-3 = 10 to the power -3 = 1/10 ^ 3 = 0.001\n",
        "model.compile(loss=losses.categorical_crossentropy, optimizer=adam, metrics=['accuracy'])\n",
        "#loss function used is catogorical cross entropy since it's classification problem\n",
        "model.summary()\n",
        ""
      ],
      "metadata": {
        "colab": {
          "base_uri": "https://localhost:8080/"
        },
        "id": "6P8ptJot_IU3",
        "outputId": "19402d47-98ed-41fc-eb7c-85f5ca9fcf95"
      },
      "execution_count": 11,
      "outputs": [
        {
          "output_type": "stream",
          "name": "stdout",
          "text": [
            "Model: \"sequential\"\n",
            "_________________________________________________________________\n",
            " Layer (type)                Output Shape              Param #   \n",
            "=================================================================\n",
            " dense (Dense)               (None, 10)                10250     \n",
            "                                                                 \n",
            "=================================================================\n",
            "Total params: 10250 (40.04 KB)\n",
            "Trainable params: 10250 (40.04 KB)\n",
            "Non-trainable params: 0 (0.00 Byte)\n",
            "_________________________________________________________________\n"
          ]
        }
      ]
    },
    {
      "cell_type": "code",
      "source": [
        "#add callbacks - these are functions called bny optimizers to check the status of the model. Read more ...\n",
        "from keras.callbacks import ModelCheckpoint, ReduceLROnPlateau\n",
        "checkpoint = ModelCheckpoint(\"model_weights.h5\", monitor='val_accuracy', save_weights_only=True, mode=\"max\", verbose=1)\n",
        "reduce_lr = ReduceLROnPlateau(monitor='val_loss', factor=0.1, patience=2,min_lr=0.00001, model='auto')\n",
        "callbacks = [checkpoint, reduce_lr]"
      ],
      "metadata": {
        "id": "MbU1heWP_vSi"
      },
      "execution_count": 12,
      "outputs": []
    },
    {
      "cell_type": "code",
      "source": [
        "# ready to train the model\n",
        "history = model.fit(x_train, y_train, batch_size=100, epochs=10,verbose=2,callbacks=callbacks,validation_split=0.2)"
      ],
      "metadata": {
        "colab": {
          "base_uri": "https://localhost:8080/"
        },
        "id": "Yn92ZB0N_0rh",
        "outputId": "2524713a-de45-4fd4-cd08-0864323d8191"
      },
      "execution_count": 13,
      "outputs": [
        {
          "output_type": "stream",
          "name": "stdout",
          "text": [
            "Epoch 1/10\n",
            "\n",
            "Epoch 1: saving model to model_weights.h5\n",
            "336/336 - 4s - loss: 2.3318 - accuracy: 0.1113 - val_loss: 2.3338 - val_accuracy: 0.1123 - lr: 0.0010 - 4s/epoch - 11ms/step\n",
            "Epoch 2/10\n",
            "\n",
            "Epoch 2: saving model to model_weights.h5\n",
            "336/336 - 1s - loss: 2.3087 - accuracy: 0.1281 - val_loss: 2.3133 - val_accuracy: 0.1344 - lr: 0.0010 - 921ms/epoch - 3ms/step\n",
            "Epoch 3/10\n",
            "\n",
            "Epoch 3: saving model to model_weights.h5\n",
            "336/336 - 1s - loss: 2.3004 - accuracy: 0.1435 - val_loss: 2.2844 - val_accuracy: 0.1677 - lr: 0.0010 - 896ms/epoch - 3ms/step\n",
            "Epoch 4/10\n",
            "\n",
            "Epoch 4: saving model to model_weights.h5\n",
            "336/336 - 1s - loss: 2.2887 - accuracy: 0.1581 - val_loss: 2.2947 - val_accuracy: 0.1583 - lr: 0.0010 - 876ms/epoch - 3ms/step\n",
            "Epoch 5/10\n",
            "\n",
            "Epoch 5: saving model to model_weights.h5\n",
            "336/336 - 1s - loss: 2.2902 - accuracy: 0.1614 - val_loss: 2.3066 - val_accuracy: 0.1443 - lr: 0.0010 - 877ms/epoch - 3ms/step\n",
            "Epoch 6/10\n",
            "\n",
            "Epoch 6: saving model to model_weights.h5\n",
            "336/336 - 1s - loss: 2.2602 - accuracy: 0.1976 - val_loss: 2.2754 - val_accuracy: 0.1729 - lr: 1.0000e-04 - 936ms/epoch - 3ms/step\n",
            "Epoch 7/10\n",
            "\n",
            "Epoch 7: saving model to model_weights.h5\n",
            "336/336 - 1s - loss: 2.2590 - accuracy: 0.1984 - val_loss: 2.2785 - val_accuracy: 0.1707 - lr: 1.0000e-04 - 1s/epoch - 3ms/step\n",
            "Epoch 8/10\n",
            "\n",
            "Epoch 8: saving model to model_weights.h5\n",
            "336/336 - 1s - loss: 2.2584 - accuracy: 0.1986 - val_loss: 2.2801 - val_accuracy: 0.1744 - lr: 1.0000e-04 - 912ms/epoch - 3ms/step\n",
            "Epoch 9/10\n",
            "\n",
            "Epoch 9: saving model to model_weights.h5\n",
            "336/336 - 1s - loss: 2.2561 - accuracy: 0.2060 - val_loss: 2.2738 - val_accuracy: 0.1913 - lr: 1.0000e-05 - 913ms/epoch - 3ms/step\n",
            "Epoch 10/10\n",
            "\n",
            "Epoch 10: saving model to model_weights.h5\n",
            "336/336 - 1s - loss: 2.2554 - accuracy: 0.2086 - val_loss: 2.2738 - val_accuracy: 0.1865 - lr: 1.0000e-05 - 884ms/epoch - 3ms/step\n"
          ]
        }
      ]
    },
    {
      "cell_type": "markdown",
      "source": [
        "Model accuracy is at 20%"
      ],
      "metadata": {
        "id": "b53eCmB0ACu1"
      }
    },
    {
      "cell_type": "code",
      "source": [
        "y_pred = model.predict(x_test)"
      ],
      "metadata": {
        "colab": {
          "base_uri": "https://localhost:8080/"
        },
        "id": "zg_gNpL2__wh",
        "outputId": "738485c8-eaa7-4c6c-c302-26a48125a1a1"
      },
      "execution_count": 14,
      "outputs": [
        {
          "output_type": "stream",
          "name": "stdout",
          "text": [
            "563/563 [==============================] - 1s 2ms/step\n"
          ]
        }
      ]
    },
    {
      "cell_type": "markdown",
      "source": [
        "Predicted model on the test data. And the out of y_pred would be probabilities of each output class."
      ],
      "metadata": {
        "id": "Dy7hZy0QAOKX"
      }
    },
    {
      "cell_type": "code",
      "source": [
        "y_pred[0]"
      ],
      "metadata": {
        "colab": {
          "base_uri": "https://localhost:8080/"
        },
        "id": "ZO_xX_fYAZWM",
        "outputId": "bf50475f-6722-47b1-8fd3-4f69fa70d7ab"
      },
      "execution_count": 15,
      "outputs": [
        {
          "output_type": "execute_result",
          "data": {
            "text/plain": [
              "array([0.0866834 , 0.09834205, 0.11156172, 0.10081939, 0.10867778,\n",
              "       0.10878824, 0.08275088, 0.09692476, 0.10105115, 0.10440055],\n",
              "      dtype=float32)"
            ]
          },
          "metadata": {},
          "execution_count": 15
        }
      ]
    },
    {
      "cell_type": "code",
      "source": [
        "# Compute the max value of these outputs\n",
        "y_pred_final = []\n",
        "import numpy as np\n",
        "for i in y_pred:\n",
        "  y_pred_final.append(np.argmax(i)) #argmax returns max value of the probability value"
      ],
      "metadata": {
        "id": "MyF5iUTcAPXd"
      },
      "execution_count": 16,
      "outputs": []
    },
    {
      "cell_type": "code",
      "source": [
        "#Check first item prediction\n",
        "print(y_pred_final[0])\n",
        "print(y_test[0])"
      ],
      "metadata": {
        "colab": {
          "base_uri": "https://localhost:8080/"
        },
        "id": "dk0J_YGkAkZR",
        "outputId": "a78001a8-7810-4c43-8104-e036e685ec92"
      },
      "execution_count": 17,
      "outputs": [
        {
          "output_type": "stream",
          "name": "stdout",
          "text": [
            "2\n",
            "1\n"
          ]
        }
      ]
    },
    {
      "cell_type": "markdown",
      "source": [
        "Model wrongly predicted the first element"
      ],
      "metadata": {
        "id": "Zg8NULAsA5ye"
      }
    },
    {
      "cell_type": "code",
      "source": [
        "#Generating classification report\n",
        "\n",
        "from sklearn.metrics import classification_report\n",
        "print(classification_report(y_test, y_pred_final))"
      ],
      "metadata": {
        "colab": {
          "base_uri": "https://localhost:8080/"
        },
        "id": "_iLN3ZM9A1oo",
        "outputId": "5ddd1aee-fe0d-4fc8-ab4f-5948b1e593b3"
      },
      "execution_count": 18,
      "outputs": [
        {
          "output_type": "stream",
          "name": "stdout",
          "text": [
            "              precision    recall  f1-score   support\n",
            "\n",
            "           0       0.22      0.30      0.25      1814\n",
            "           1       0.16      0.12      0.14      1828\n",
            "           2       0.19      0.22      0.21      1803\n",
            "           3       0.19      0.24      0.21      1719\n",
            "           4       0.22      0.33      0.26      1812\n",
            "           5       0.17      0.19      0.18      1768\n",
            "           6       0.19      0.13      0.16      1832\n",
            "           7       0.16      0.17      0.17      1808\n",
            "           8       0.19      0.13      0.15      1812\n",
            "           9       0.23      0.11      0.15      1804\n",
            "\n",
            "    accuracy                           0.19     18000\n",
            "   macro avg       0.19      0.19      0.19     18000\n",
            "weighted avg       0.19      0.19      0.19     18000\n",
            "\n"
          ]
        }
      ]
    },
    {
      "cell_type": "markdown",
      "source": [
        "Model accuracy is 19% and should work on improving it"
      ],
      "metadata": {
        "id": "QxIk6JHvBDBa"
      }
    },
    {
      "cell_type": "code",
      "source": [
        "# define new model with more dense layers\n",
        "inputs = 32*32 #no of inputs\n",
        "from keras import optimizers\n",
        "from keras import Sequential\n",
        "from keras.layers import Dense, Dropout, BatchNormalization\n",
        "\n",
        "#model is sequential\n",
        "model_1 = Sequential()\n",
        "model_1.add(Dense(60, activation=\"relu\", kernel_initializer=\"he_uniform\",input_shape=(inputs,)))\n",
        "model_1.add(Dense(40, activation=\"relu\", kernel_initializer=\"he_uniform\"))\n",
        "model_1.add(Dense(20, activation=\"relu\", kernel_initializer=\"he_uniform\"))\n",
        "model_1.add(Dense(10, activation=\"softmax\"))\n",
        "\n",
        "\n",
        "\n",
        "#Model optimizer functions - RMSprop, Adagrad - adam and SGD - Stochastic Gradient Descent - we will choose Adam to start with\n",
        "#An optimization algorithm finds the value of the parameters (weights) that minimize the error when mapping inputs to outputs.\n",
        "from keras import losses\n",
        "\n",
        "# use adam\n",
        "adam = optimizers.Adam(learning_rate=1e-3) #lr = learning rate 1e-3 = 10 to the power -3 = 1/10 ^ 3 = 0.001\n",
        "model_1.compile(loss=losses.categorical_crossentropy, optimizer=adam, metrics=['accuracy'])\n",
        "#loss function used is catogorical cross entropy since it's classification problem\n",
        "model_1.summary()"
      ],
      "metadata": {
        "colab": {
          "base_uri": "https://localhost:8080/"
        },
        "id": "nGqL3iKLBzpY",
        "outputId": "809a1602-591b-42d8-bc5b-8320a9c3b5a8"
      },
      "execution_count": 19,
      "outputs": [
        {
          "output_type": "stream",
          "name": "stdout",
          "text": [
            "Model: \"sequential_1\"\n",
            "_________________________________________________________________\n",
            " Layer (type)                Output Shape              Param #   \n",
            "=================================================================\n",
            " dense_1 (Dense)             (None, 60)                61500     \n",
            "                                                                 \n",
            " dense_2 (Dense)             (None, 40)                2440      \n",
            "                                                                 \n",
            " dense_3 (Dense)             (None, 20)                820       \n",
            "                                                                 \n",
            " dense_4 (Dense)             (None, 10)                210       \n",
            "                                                                 \n",
            "=================================================================\n",
            "Total params: 64970 (253.79 KB)\n",
            "Trainable params: 64970 (253.79 KB)\n",
            "Non-trainable params: 0 (0.00 Byte)\n",
            "_________________________________________________________________\n"
          ]
        }
      ]
    },
    {
      "cell_type": "code",
      "source": [
        "#let's try with smaller batch size and more epochs\n",
        "history = model_1.fit(x_train, y_train, batch_size=50, epochs=20,verbose=2,callbacks=callbacks,validation_split=0.2)"
      ],
      "metadata": {
        "colab": {
          "base_uri": "https://localhost:8080/"
        },
        "id": "duSUv_AxCbdi",
        "outputId": "4c8e4f7d-3bc5-4c78-c28e-68eb90ce592e"
      },
      "execution_count": 20,
      "outputs": [
        {
          "output_type": "stream",
          "name": "stdout",
          "text": [
            "Epoch 1/20\n",
            "\n",
            "Epoch 1: saving model to model_weights.h5\n",
            "672/672 - 5s - loss: 2.3021 - accuracy: 0.1020 - val_loss: 2.2878 - val_accuracy: 0.1189 - lr: 0.0010 - 5s/epoch - 7ms/step\n",
            "Epoch 2/20\n",
            "\n",
            "Epoch 2: saving model to model_weights.h5\n",
            "672/672 - 2s - loss: 2.1877 - accuracy: 0.1775 - val_loss: 2.0746 - val_accuracy: 0.2242 - lr: 0.0010 - 2s/epoch - 4ms/step\n",
            "Epoch 3/20\n",
            "\n",
            "Epoch 3: saving model to model_weights.h5\n",
            "672/672 - 3s - loss: 1.8712 - accuracy: 0.3314 - val_loss: 1.7070 - val_accuracy: 0.4063 - lr: 0.0010 - 3s/epoch - 5ms/step\n",
            "Epoch 4/20\n",
            "\n",
            "Epoch 4: saving model to model_weights.h5\n",
            "672/672 - 3s - loss: 1.5637 - accuracy: 0.4681 - val_loss: 1.5522 - val_accuracy: 0.4818 - lr: 0.0010 - 3s/epoch - 4ms/step\n",
            "Epoch 5/20\n",
            "\n",
            "Epoch 5: saving model to model_weights.h5\n",
            "672/672 - 2s - loss: 1.4457 - accuracy: 0.5148 - val_loss: 1.4075 - val_accuracy: 0.5300 - lr: 0.0010 - 2s/epoch - 3ms/step\n",
            "Epoch 6/20\n",
            "\n",
            "Epoch 6: saving model to model_weights.h5\n",
            "672/672 - 2s - loss: 1.3756 - accuracy: 0.5399 - val_loss: 1.3465 - val_accuracy: 0.5583 - lr: 0.0010 - 2s/epoch - 3ms/step\n",
            "Epoch 7/20\n",
            "\n",
            "Epoch 7: saving model to model_weights.h5\n",
            "672/672 - 2s - loss: 1.3304 - accuracy: 0.5609 - val_loss: 1.3101 - val_accuracy: 0.5702 - lr: 0.0010 - 2s/epoch - 3ms/step\n",
            "Epoch 8/20\n",
            "\n",
            "Epoch 8: saving model to model_weights.h5\n",
            "672/672 - 3s - loss: 1.2832 - accuracy: 0.5818 - val_loss: 1.3094 - val_accuracy: 0.5638 - lr: 0.0010 - 3s/epoch - 5ms/step\n",
            "Epoch 9/20\n",
            "\n",
            "Epoch 9: saving model to model_weights.h5\n",
            "672/672 - 3s - loss: 1.2505 - accuracy: 0.5916 - val_loss: 1.2123 - val_accuracy: 0.6126 - lr: 0.0010 - 3s/epoch - 4ms/step\n",
            "Epoch 10/20\n",
            "\n",
            "Epoch 10: saving model to model_weights.h5\n",
            "672/672 - 2s - loss: 1.2152 - accuracy: 0.6128 - val_loss: 1.1887 - val_accuracy: 0.6298 - lr: 0.0010 - 2s/epoch - 3ms/step\n",
            "Epoch 11/20\n",
            "\n",
            "Epoch 11: saving model to model_weights.h5\n",
            "672/672 - 2s - loss: 1.1845 - accuracy: 0.6254 - val_loss: 1.1951 - val_accuracy: 0.6252 - lr: 0.0010 - 2s/epoch - 3ms/step\n",
            "Epoch 12/20\n",
            "\n",
            "Epoch 12: saving model to model_weights.h5\n",
            "672/672 - 2s - loss: 1.1569 - accuracy: 0.6355 - val_loss: 1.1565 - val_accuracy: 0.6385 - lr: 0.0010 - 2s/epoch - 4ms/step\n",
            "Epoch 13/20\n",
            "\n",
            "Epoch 13: saving model to model_weights.h5\n",
            "672/672 - 3s - loss: 1.1439 - accuracy: 0.6413 - val_loss: 1.1362 - val_accuracy: 0.6456 - lr: 0.0010 - 3s/epoch - 4ms/step\n",
            "Epoch 14/20\n",
            "\n",
            "Epoch 14: saving model to model_weights.h5\n",
            "672/672 - 3s - loss: 1.1182 - accuracy: 0.6516 - val_loss: 1.1409 - val_accuracy: 0.6443 - lr: 0.0010 - 3s/epoch - 5ms/step\n",
            "Epoch 15/20\n",
            "\n",
            "Epoch 15: saving model to model_weights.h5\n",
            "672/672 - 2s - loss: 1.1034 - accuracy: 0.6558 - val_loss: 1.1145 - val_accuracy: 0.6529 - lr: 0.0010 - 2s/epoch - 4ms/step\n",
            "Epoch 16/20\n",
            "\n",
            "Epoch 16: saving model to model_weights.h5\n",
            "672/672 - 2s - loss: 1.0931 - accuracy: 0.6617 - val_loss: 1.1159 - val_accuracy: 0.6567 - lr: 0.0010 - 2s/epoch - 3ms/step\n",
            "Epoch 17/20\n",
            "\n",
            "Epoch 17: saving model to model_weights.h5\n",
            "672/672 - 3s - loss: 1.0770 - accuracy: 0.6664 - val_loss: 1.0982 - val_accuracy: 0.6685 - lr: 0.0010 - 3s/epoch - 4ms/step\n",
            "Epoch 18/20\n",
            "\n",
            "Epoch 18: saving model to model_weights.h5\n",
            "672/672 - 3s - loss: 1.0635 - accuracy: 0.6724 - val_loss: 1.0880 - val_accuracy: 0.6608 - lr: 0.0010 - 3s/epoch - 4ms/step\n",
            "Epoch 19/20\n",
            "\n",
            "Epoch 19: saving model to model_weights.h5\n",
            "672/672 - 3s - loss: 1.0555 - accuracy: 0.6727 - val_loss: 1.0938 - val_accuracy: 0.6594 - lr: 0.0010 - 3s/epoch - 5ms/step\n",
            "Epoch 20/20\n",
            "\n",
            "Epoch 20: saving model to model_weights.h5\n",
            "672/672 - 2s - loss: 1.0469 - accuracy: 0.6756 - val_loss: 1.0584 - val_accuracy: 0.6751 - lr: 0.0010 - 2s/epoch - 3ms/step\n"
          ]
        }
      ]
    },
    {
      "cell_type": "markdown",
      "source": [
        "The newly build improved performance to 67% which is way above the initial 20%"
      ],
      "metadata": {
        "id": "Dhqk8v2FC2Jk"
      }
    },
    {
      "cell_type": "code",
      "source": [
        "#let's further reduce the batch size and see if improved the accuracy\n",
        "history = model_1.fit(x_train, y_train, batch_size=30, epochs=20,verbose=2,callbacks=callbacks,validation_split=0.2)\n",
        "\n"
      ],
      "metadata": {
        "colab": {
          "base_uri": "https://localhost:8080/"
        },
        "id": "haUAm_p-C_Sy",
        "outputId": "3cc0cabb-c2ab-4938-ffc4-65890a9f978e"
      },
      "execution_count": 21,
      "outputs": [
        {
          "output_type": "stream",
          "name": "stdout",
          "text": [
            "Epoch 1/20\n",
            "\n",
            "Epoch 1: saving model to model_weights.h5\n",
            "1120/1120 - 6s - loss: 1.0721 - accuracy: 0.6687 - val_loss: 1.0856 - val_accuracy: 0.6624 - lr: 0.0010 - 6s/epoch - 5ms/step\n",
            "Epoch 2/20\n",
            "\n",
            "Epoch 2: saving model to model_weights.h5\n",
            "1120/1120 - 4s - loss: 1.0450 - accuracy: 0.6745 - val_loss: 1.0697 - val_accuracy: 0.6669 - lr: 0.0010 - 4s/epoch - 3ms/step\n",
            "Epoch 3/20\n",
            "\n",
            "Epoch 3: saving model to model_weights.h5\n",
            "1120/1120 - 6s - loss: 1.0351 - accuracy: 0.6800 - val_loss: 1.0529 - val_accuracy: 0.6737 - lr: 0.0010 - 6s/epoch - 5ms/step\n",
            "Epoch 4/20\n",
            "\n",
            "Epoch 4: saving model to model_weights.h5\n",
            "1120/1120 - 4s - loss: 1.0260 - accuracy: 0.6848 - val_loss: 1.0323 - val_accuracy: 0.6846 - lr: 0.0010 - 4s/epoch - 4ms/step\n",
            "Epoch 5/20\n",
            "\n",
            "Epoch 5: saving model to model_weights.h5\n",
            "1120/1120 - 4s - loss: 1.0128 - accuracy: 0.6859 - val_loss: 1.0532 - val_accuracy: 0.6742 - lr: 0.0010 - 4s/epoch - 3ms/step\n",
            "Epoch 6/20\n",
            "\n",
            "Epoch 6: saving model to model_weights.h5\n",
            "1120/1120 - 5s - loss: 1.0147 - accuracy: 0.6846 - val_loss: 1.0659 - val_accuracy: 0.6681 - lr: 0.0010 - 5s/epoch - 5ms/step\n",
            "Epoch 7/20\n",
            "\n",
            "Epoch 7: saving model to model_weights.h5\n",
            "1120/1120 - 4s - loss: 0.9313 - accuracy: 0.7162 - val_loss: 0.9768 - val_accuracy: 0.7042 - lr: 1.0000e-04 - 4s/epoch - 3ms/step\n",
            "Epoch 8/20\n",
            "\n",
            "Epoch 8: saving model to model_weights.h5\n",
            "1120/1120 - 4s - loss: 0.9249 - accuracy: 0.7184 - val_loss: 0.9765 - val_accuracy: 0.7043 - lr: 1.0000e-04 - 4s/epoch - 3ms/step\n",
            "Epoch 9/20\n",
            "\n",
            "Epoch 9: saving model to model_weights.h5\n",
            "1120/1120 - 5s - loss: 0.9238 - accuracy: 0.7190 - val_loss: 0.9775 - val_accuracy: 0.7029 - lr: 1.0000e-04 - 5s/epoch - 5ms/step\n",
            "Epoch 10/20\n",
            "\n",
            "Epoch 10: saving model to model_weights.h5\n",
            "1120/1120 - 4s - loss: 0.9216 - accuracy: 0.7193 - val_loss: 0.9763 - val_accuracy: 0.7043 - lr: 1.0000e-04 - 4s/epoch - 3ms/step\n",
            "Epoch 11/20\n",
            "\n",
            "Epoch 11: saving model to model_weights.h5\n",
            "1120/1120 - 4s - loss: 0.9211 - accuracy: 0.7194 - val_loss: 0.9750 - val_accuracy: 0.7037 - lr: 1.0000e-04 - 4s/epoch - 3ms/step\n",
            "Epoch 12/20\n",
            "\n",
            "Epoch 12: saving model to model_weights.h5\n",
            "1120/1120 - 5s - loss: 0.9185 - accuracy: 0.7209 - val_loss: 0.9714 - val_accuracy: 0.7057 - lr: 1.0000e-04 - 5s/epoch - 5ms/step\n",
            "Epoch 13/20\n",
            "\n",
            "Epoch 13: saving model to model_weights.h5\n",
            "1120/1120 - 4s - loss: 0.9178 - accuracy: 0.7215 - val_loss: 0.9705 - val_accuracy: 0.7080 - lr: 1.0000e-04 - 4s/epoch - 3ms/step\n",
            "Epoch 14/20\n",
            "\n",
            "Epoch 14: saving model to model_weights.h5\n",
            "1120/1120 - 4s - loss: 0.9172 - accuracy: 0.7219 - val_loss: 0.9673 - val_accuracy: 0.7088 - lr: 1.0000e-04 - 4s/epoch - 3ms/step\n",
            "Epoch 15/20\n",
            "\n",
            "Epoch 15: saving model to model_weights.h5\n",
            "1120/1120 - 4s - loss: 0.9149 - accuracy: 0.7215 - val_loss: 0.9738 - val_accuracy: 0.7026 - lr: 1.0000e-04 - 4s/epoch - 4ms/step\n",
            "Epoch 16/20\n",
            "\n",
            "Epoch 16: saving model to model_weights.h5\n",
            "1120/1120 - 4s - loss: 0.9144 - accuracy: 0.7221 - val_loss: 0.9695 - val_accuracy: 0.7095 - lr: 1.0000e-04 - 4s/epoch - 4ms/step\n",
            "Epoch 17/20\n",
            "\n",
            "Epoch 17: saving model to model_weights.h5\n",
            "1120/1120 - 4s - loss: 0.9052 - accuracy: 0.7264 - val_loss: 0.9648 - val_accuracy: 0.7093 - lr: 1.0000e-05 - 4s/epoch - 3ms/step\n",
            "Epoch 18/20\n",
            "\n",
            "Epoch 18: saving model to model_weights.h5\n",
            "1120/1120 - 6s - loss: 0.9048 - accuracy: 0.7266 - val_loss: 0.9652 - val_accuracy: 0.7087 - lr: 1.0000e-05 - 6s/epoch - 5ms/step\n",
            "Epoch 19/20\n",
            "\n",
            "Epoch 19: saving model to model_weights.h5\n",
            "1120/1120 - 4s - loss: 0.9045 - accuracy: 0.7267 - val_loss: 0.9642 - val_accuracy: 0.7104 - lr: 1.0000e-05 - 4s/epoch - 4ms/step\n",
            "Epoch 20/20\n",
            "\n",
            "Epoch 20: saving model to model_weights.h5\n",
            "1120/1120 - 4s - loss: 0.9043 - accuracy: 0.7261 - val_loss: 0.9650 - val_accuracy: 0.7092 - lr: 1.0000e-05 - 4s/epoch - 3ms/step\n"
          ]
        }
      ]
    },
    {
      "cell_type": "markdown",
      "source": [
        "The new fitting of model returns 72% accuracy and it reached to flattened line, no further improvement noticed.\n",
        "\n",
        "Let's check training, validation loss vs no of epochs"
      ],
      "metadata": {
        "id": "-oJYCxrRHTdQ"
      }
    },
    {
      "cell_type": "code",
      "source": [
        "# Get training and test loss histories\n",
        "training_loss = history.history['loss']\n",
        "test_loss = history.history['val_loss']\n",
        "\n",
        "# Create count of the number of epochs\n",
        "epoch_count = range(1, len(training_loss) + 1)\n",
        "\n",
        "# Visualize loss history\n",
        "plt.plot(epoch_count, training_loss, 'r--')\n",
        "plt.plot(epoch_count, test_loss, 'b-')\n",
        "plt.legend(['Training Loss', 'Validation Loss'])\n",
        "plt.xlabel('Epoch')\n",
        "plt.ylabel('Loss')\n",
        "plt.show();"
      ],
      "metadata": {
        "colab": {
          "base_uri": "https://localhost:8080/",
          "height": 449
        },
        "id": "YTHkA0IoILN7",
        "outputId": "fc94fe9f-626e-486a-b33c-6f75a70b6207"
      },
      "execution_count": 22,
      "outputs": [
        {
          "output_type": "display_data",
          "data": {
            "text/plain": [
              "<Figure size 640x480 with 1 Axes>"
            ],
            "image/png": "[encoded data removed]"
          },
          "metadata": {}
        }
      ]
    },
    {
      "cell_type": "markdown",
      "source": [
        "Let's check training accuracy, validation accuracy vs number of epochs"
      ],
      "metadata": {
        "id": "Wpc4owC3IsUW"
      }
    },
    {
      "cell_type": "code",
      "source": [
        "# Get training and test accuracy histories\n",
        "training_accuracy = history.history['accuracy']\n",
        "test_accuracy = history.history['val_accuracy']\n",
        "\n",
        "# Create count of the number of epochs\n",
        "epoch_count = range(1, len(training_accuracy) + 1)\n",
        "\n",
        "# Visualize loss history\n",
        "plt.plot(epoch_count, training_accuracy, 'r--')\n",
        "plt.plot(epoch_count, test_accuracy, 'b-')\n",
        "plt.legend(['Training Accuracy', 'Validation Accuracy'])\n",
        "plt.xlabel('Epoch')\n",
        "plt.ylabel('Accuracy')\n",
        "plt.show();"
      ],
      "metadata": {
        "colab": {
          "base_uri": "https://localhost:8080/",
          "height": 449
        },
        "id": "LomihI0QIovp",
        "outputId": "2b6617b9-5204-45bb-cc5c-99a0ac6ea7d1"
      },
      "execution_count": 23,
      "outputs": [
        {
          "output_type": "display_data",
          "data": {
            "text/plain": [
              "<Figure size 640x480 with 1 Axes>"
            ],
            "image/png": "[encoded data removed]"
          },
          "metadata": {}
        }
      ]
    },
    {
      "cell_type": "markdown",
      "source": [
        "In summary, accuracy of model is increased with more dense layers, and no of epochs. The accuracy stayed flat once it reached 18 epochs and no further improvement noticed. And it's the vice versa for training loss and validation loss, it significanlty reduced with increase of  \n",
        "\n",
        "The overall accuracy of the model is significantly improved from single dense layer.\n",
        "\n",
        "Let's further look in to classification matrix and report, by re running prediction on test data."
      ],
      "metadata": {
        "id": "fOTyzw8oJa_8"
      }
    },
    {
      "cell_type": "code",
      "source": [
        "y_pred = model_1.predict(x_test)"
      ],
      "metadata": {
        "colab": {
          "base_uri": "https://localhost:8080/"
        },
        "id": "UoojZAh6Ka4j",
        "outputId": "9a1fef8e-eb0c-4d43-9828-25db646c917b"
      },
      "execution_count": 27,
      "outputs": [
        {
          "output_type": "stream",
          "name": "stdout",
          "text": [
            "563/563 [==============================] - 3s 5ms/step\n"
          ]
        }
      ]
    },
    {
      "cell_type": "code",
      "source": [
        "# Compute the max value of these outputs\n",
        "y_pred_final = []\n",
        "import numpy as np\n",
        "for i in y_pred:\n",
        "  y_pred_final.append(np.argmax(i)) #argmax returns max value of the probability value"
      ],
      "metadata": {
        "id": "VaF_wj-ZKgHN"
      },
      "execution_count": 28,
      "outputs": []
    },
    {
      "cell_type": "code",
      "source": [
        "#Generating classification report\n",
        "\n",
        "from sklearn.metrics import classification_report\n",
        "print(classification_report(y_test, y_pred_final))"
      ],
      "metadata": {
        "colab": {
          "base_uri": "https://localhost:8080/"
        },
        "id": "_Ph3BZ5AKuTT",
        "outputId": "da9f2bc3-cd34-4927-8714-48c72ba8f3fa"
      },
      "execution_count": 29,
      "outputs": [
        {
          "output_type": "stream",
          "name": "stdout",
          "text": [
            "              precision    recall  f1-score   support\n",
            "\n",
            "           0       0.69      0.73      0.71      1814\n",
            "           1       0.68      0.76      0.72      1828\n",
            "           2       0.77      0.74      0.76      1803\n",
            "           3       0.68      0.66      0.67      1719\n",
            "           4       0.75      0.79      0.77      1812\n",
            "           5       0.70      0.67      0.68      1768\n",
            "           6       0.73      0.69      0.71      1832\n",
            "           7       0.73      0.74      0.74      1808\n",
            "           8       0.67      0.62      0.65      1812\n",
            "           9       0.71      0.69      0.70      1804\n",
            "\n",
            "    accuracy                           0.71     18000\n",
            "   macro avg       0.71      0.71      0.71     18000\n",
            "weighted avg       0.71      0.71      0.71     18000\n",
            "\n"
          ]
        }
      ]
    },
    {
      "cell_type": "markdown",
      "source": [
        "Classification Report shows model performaed with 71% accuracy on test dataset"
      ],
      "metadata": {
        "id": "-1HGP4vfK8eR"
      }
    },
    {
      "cell_type": "code",
      "source": [
        "from sklearn.metrics import confusion_matrix\n",
        "import seaborn as sns\n",
        "cm = confusion_matrix(y_test, y_pred_final)\n",
        "\n",
        "plt.figure(figsize=(10,7))\n",
        "sns.heatmap(cm,annot=True,fmt='d')\n",
        "plt.xlabel('Predicted')\n",
        "plt.ylabel('Truth')\n",
        "plt.show()"
      ],
      "metadata": {
        "colab": {
          "base_uri": "https://localhost:8080/",
          "height": 619
        },
        "id": "tdYzIJeFLDNK",
        "outputId": "23ac39fc-936c-4ce9-b021-6fb5daddcec8"
      },
      "execution_count": 30,
      "outputs": [
        {
          "output_type": "display_data",
          "data": {
            "text/plain": [
              "<Figure size 1000x700 with 2 Axes>"
            ],
            "image/png": "[encoded data removed]"
          },
          "metadata": {}
        }
      ]
    },
    {
      "cell_type": "markdown",
      "source": [
        "Model seems to have misclassified\n",
        "\n",
        "- 2 images to 7 and vice versa -> these shapes might be close enough\n",
        "- 3 images to 5 and vice versa -> that's intersting they generally don't look similar\n",
        "- 6 images to either 0 or 8 -> they are close enough\n",
        "\n",
        "\n",
        "\n",
        "\n",
        "\n"
      ],
      "metadata": {
        "id": "5vi4ww4sLTPF"
      }
    },
    {
      "cell_type": "code",
      "source": [
        "index=0\n",
        "misclassified_images=[]\n",
        "for label, predict in zip(y_test,y_pred_final):\n",
        "  if label != predict:\n",
        "    misclassified_images.append(index)\n",
        "  index += 1\n",
        "print(\"Overall model misclassified : \", len(misclassified_images), \" out of\" , len(y_test), \"that's about\", (len(misclassified_images)/len(y_test))*100 , \"%\" )\n"
      ],
      "metadata": {
        "colab": {
          "base_uri": "https://localhost:8080/"
        },
        "id": "sc208CRNMHsn",
        "outputId": "fb1f97fc-0ddc-4506-8fc9-549b3f11d443"
      },
      "execution_count": 32,
      "outputs": [
        {
          "output_type": "stream",
          "name": "stdout",
          "text": [
            "Overall model misclassified :  5209  out of 18000 that's about 28.938888888888886 %\n"
          ]
        }
      ]
    }
  ]
}